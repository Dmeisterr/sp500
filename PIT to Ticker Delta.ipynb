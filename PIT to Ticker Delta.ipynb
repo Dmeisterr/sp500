{
 "cells": [
  {
   "cell_type": "code",
   "execution_count": 1,
   "id": "f9ee0bdb-b288-478d-9deb-bd157cfaf8f3",
   "metadata": {},
   "outputs": [
    {
     "data": {
      "text/html": [
       "<div>\n",
       "<style scoped>\n",
       "    .dataframe tbody tr th:only-of-type {\n",
       "        vertical-align: middle;\n",
       "    }\n",
       "\n",
       "    .dataframe tbody tr th {\n",
       "        vertical-align: top;\n",
       "    }\n",
       "\n",
       "    .dataframe thead th {\n",
       "        text-align: right;\n",
       "    }\n",
       "</style>\n",
       "<table border=\"1\" class=\"dataframe\">\n",
       "  <thead>\n",
       "    <tr style=\"text-align: right;\">\n",
       "      <th></th>\n",
       "      <th>date</th>\n",
       "      <th>tickers</th>\n",
       "    </tr>\n",
       "  </thead>\n",
       "  <tbody>\n",
       "    <tr>\n",
       "      <th>0</th>\n",
       "      <td>1996-01-02</td>\n",
       "      <td>AAL,AAMRQ,AAPL,ABI,ABS,ABT,ABX,ACKH,ACV,ADM,AD...</td>\n",
       "    </tr>\n",
       "    <tr>\n",
       "      <th>1</th>\n",
       "      <td>1996-01-03</td>\n",
       "      <td>AAL,AAMRQ,AAPL,ABI,ABS,ABT,ABX,ACKH,ACV,ADM,AD...</td>\n",
       "    </tr>\n",
       "    <tr>\n",
       "      <th>2</th>\n",
       "      <td>1996-01-04</td>\n",
       "      <td>AAL,AAMRQ,AAPL,ABI,ABS,ABT,ABX,ACKH,ACV,ADM,AD...</td>\n",
       "    </tr>\n",
       "    <tr>\n",
       "      <th>3</th>\n",
       "      <td>1996-01-10</td>\n",
       "      <td>AAL,AAMRQ,AAPL,ABI,ABS,ABT,ABX,ACKH,ACV,ADM,AD...</td>\n",
       "    </tr>\n",
       "    <tr>\n",
       "      <th>4</th>\n",
       "      <td>1996-01-11</td>\n",
       "      <td>AAL,AAMRQ,AAPL,ABI,ABS,ABT,ABX,ACKH,ACV,ADM,AD...</td>\n",
       "    </tr>\n",
       "  </tbody>\n",
       "</table>\n",
       "</div>"
      ],
      "text/plain": [
       "        date                                            tickers\n",
       "0 1996-01-02  AAL,AAMRQ,AAPL,ABI,ABS,ABT,ABX,ACKH,ACV,ADM,AD...\n",
       "1 1996-01-03  AAL,AAMRQ,AAPL,ABI,ABS,ABT,ABX,ACKH,ACV,ADM,AD...\n",
       "2 1996-01-04  AAL,AAMRQ,AAPL,ABI,ABS,ABT,ABX,ACKH,ACV,ADM,AD...\n",
       "3 1996-01-10  AAL,AAMRQ,AAPL,ABI,ABS,ABT,ABX,ACKH,ACV,ADM,AD...\n",
       "4 1996-01-11  AAL,AAMRQ,AAPL,ABI,ABS,ABT,ABX,ACKH,ACV,ADM,AD..."
      ]
     },
     "execution_count": 1,
     "metadata": {},
     "output_type": "execute_result"
    }
   ],
   "source": [
    "import pandas as pd\n",
    "from tqdm import tqdm\n",
    "\n",
    "df = pd.read_csv(\"S&P 500 Historical Components & Changes(04-08-2024).csv\")\n",
    "df['date'] = pd.to_datetime(df['date'])\n",
    "df.head()"
   ]
  },
  {
   "cell_type": "code",
   "execution_count": 2,
   "id": "b1423720-3384-4d61-ae24-bca401d157d6",
   "metadata": {},
   "outputs": [],
   "source": [
    "# Get Unique Tickers\n",
    "unique_tickers = set()\n",
    "transformed_data = []\n",
    "for i, row in df.iterrows():\n",
    "    tickers = row['tickers'].split(',')\n",
    "    unique_tickers = unique_tickers.union(set(tickers))"
   ]
  },
  {
   "cell_type": "code",
   "execution_count": 3,
   "id": "e6f3434e-7c64-48e8-8169-c6950f9dacaf",
   "metadata": {},
   "outputs": [
    {
     "name": "stderr",
     "output_type": "stream",
     "text": [
      "100%|██████████████████████████████████████████████████████████████████████████████| 1163/1163 [03:26<00:00,  5.63it/s]\n"
     ]
    }
   ],
   "source": [
    "# Convert Point in Time to Ticker Start/End Records\n",
    "ticker_start_end_records = []\n",
    "for ticker in tqdm(unique_tickers):\n",
    "    ticker_record = None\n",
    "    for i, row in df.iterrows():\n",
    "        period_tickers = set(row['tickers'].split(','))\n",
    "        if ticker in period_tickers:\n",
    "            if ticker_record is None:\n",
    "                ticker_record = {\"ticker\": ticker, \"start_date\": row[\"date\"]}\n",
    "                continue\n",
    "        elif ticker_record is not None:\n",
    "            ticker_record.update({\"end_date\": row[\"date\"]})\n",
    "            ticker_start_end_records.append(ticker_record)\n",
    "            ticker_record = None"
   ]
  },
  {
   "cell_type": "code",
   "execution_count": 4,
   "id": "27c4ed4d-f8a1-4b05-a785-bf1e4090317e",
   "metadata": {},
   "outputs": [
    {
     "data": {
      "text/html": [
       "<div>\n",
       "<style scoped>\n",
       "    .dataframe tbody tr th:only-of-type {\n",
       "        vertical-align: middle;\n",
       "    }\n",
       "\n",
       "    .dataframe tbody tr th {\n",
       "        vertical-align: top;\n",
       "    }\n",
       "\n",
       "    .dataframe thead th {\n",
       "        text-align: right;\n",
       "    }\n",
       "</style>\n",
       "<table border=\"1\" class=\"dataframe\">\n",
       "  <thead>\n",
       "    <tr style=\"text-align: right;\">\n",
       "      <th></th>\n",
       "      <th>ticker</th>\n",
       "      <th>start_date</th>\n",
       "      <th>end_date</th>\n",
       "    </tr>\n",
       "  </thead>\n",
       "  <tbody>\n",
       "    <tr>\n",
       "      <th>0</th>\n",
       "      <td>MON</td>\n",
       "      <td>2002-08-14</td>\n",
       "      <td>2018-06-07</td>\n",
       "    </tr>\n",
       "    <tr>\n",
       "      <th>1</th>\n",
       "      <td>EVHC</td>\n",
       "      <td>2016-12-02</td>\n",
       "      <td>2018-10-11</td>\n",
       "    </tr>\n",
       "    <tr>\n",
       "      <th>2</th>\n",
       "      <td>ASC</td>\n",
       "      <td>1996-01-02</td>\n",
       "      <td>1999-06-24</td>\n",
       "    </tr>\n",
       "    <tr>\n",
       "      <th>3</th>\n",
       "      <td>PHA</td>\n",
       "      <td>1996-01-02</td>\n",
       "      <td>2003-04-16</td>\n",
       "    </tr>\n",
       "    <tr>\n",
       "      <th>4</th>\n",
       "      <td>CAM</td>\n",
       "      <td>2008-01-29</td>\n",
       "      <td>2016-04-04</td>\n",
       "    </tr>\n",
       "  </tbody>\n",
       "</table>\n",
       "</div>"
      ],
      "text/plain": [
       "  ticker start_date   end_date\n",
       "0    MON 2002-08-14 2018-06-07\n",
       "1   EVHC 2016-12-02 2018-10-11\n",
       "2    ASC 1996-01-02 1999-06-24\n",
       "3    PHA 1996-01-02 2003-04-16\n",
       "4    CAM 2008-01-29 2016-04-04"
      ]
     },
     "execution_count": 4,
     "metadata": {},
     "output_type": "execute_result"
    }
   ],
   "source": [
    "# Convert back to dataframe\n",
    "ticker_record_df = pd.DataFrame(ticker_start_end_records)\n",
    "ticker_record_df.head()"
   ]
  },
  {
   "cell_type": "code",
   "execution_count": 5,
   "id": "f4aed634-93c0-4c36-8907-3cdcd53af73c",
   "metadata": {},
   "outputs": [
    {
     "data": {
      "text/plain": [
       "ticker\n",
       "COV     3\n",
       "MIR     2\n",
       "NE      2\n",
       "MXIM    2\n",
       "AN      2\n",
       "FL      2\n",
       "CBE     2\n",
       "HRS     2\n",
       "OI      2\n",
       "MEE     2\n",
       "DXC     2\n",
       "HP      2\n",
       "GGP     2\n",
       "H       2\n",
       "GAS     2\n",
       "Name: start_date, dtype: int64"
      ]
     },
     "execution_count": 5,
     "metadata": {},
     "output_type": "execute_result"
    }
   ],
   "source": [
    "# Look at top tickers entereing and leaving S&P 500\n",
    "(\n",
    "    ticker_record_df.groupby(\"ticker\")[\"start_date\"]\n",
    "    .count().sort_values(ascending=False)\n",
    "    .head(15)\n",
    ")"
   ]
  },
  {
   "cell_type": "code",
   "execution_count": 6,
   "id": "30739501-b01d-4840-a03d-975ab2791d31",
   "metadata": {},
   "outputs": [],
   "source": [
    "# Record to CSV\n",
    "(\n",
    "    ticker_record_df.sort_values([\"ticker\", \"start_date\"])\n",
    "    .to_csv(\"sp500_ticker_start_end.csv\", index=False)\n",
    ")"
   ]
  }
 ],
 "metadata": {
  "kernelspec": {
   "display_name": "Python 3 (ipykernel)",
   "language": "python",
   "name": "python3"
  },
  "language_info": {
   "codemirror_mode": {
    "name": "ipython",
    "version": 3
   },
   "file_extension": ".py",
   "mimetype": "text/x-python",
   "name": "python",
   "nbconvert_exporter": "python",
   "pygments_lexer": "ipython3",
   "version": "3.8.6"
  }
 },
 "nbformat": 4,
 "nbformat_minor": 5
}
